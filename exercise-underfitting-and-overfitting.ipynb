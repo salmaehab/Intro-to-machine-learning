{
 "cells": [
  {
   "cell_type": "markdown",
   "id": "ee43e7f6",
   "metadata": {
    "papermill": {
     "duration": 0.014622,
     "end_time": "2022-04-14T23:10:35.218636",
     "exception": false,
     "start_time": "2022-04-14T23:10:35.204014",
     "status": "completed"
    },
    "tags": []
   },
   "source": [
    "**This notebook is an exercise in the [Introduction to Machine Learning](https://www.kaggle.com/learn/intro-to-machine-learning) course.  You can reference the tutorial at [this link](https://www.kaggle.com/dansbecker/underfitting-and-overfitting).**\n",
    "\n",
    "---\n"
   ]
  },
  {
   "cell_type": "markdown",
   "id": "eff263a3",
   "metadata": {
    "papermill": {
     "duration": 0.01506,
     "end_time": "2022-04-14T23:10:35.248182",
     "exception": false,
     "start_time": "2022-04-14T23:10:35.233122",
     "status": "completed"
    },
    "tags": []
   },
   "source": [
    "## Recap\n",
    "You've built your first model, and now it's time to optimize the size of the tree to make better predictions. Run this cell to set up your coding environment where the previous step left off."
   ]
  },
  {
   "cell_type": "code",
   "execution_count": 1,
   "id": "93d3baa3",
   "metadata": {
    "execution": {
     "iopub.execute_input": "2022-04-14T23:10:35.277495Z",
     "iopub.status.busy": "2022-04-14T23:10:35.277074Z",
     "iopub.status.idle": "2022-04-14T23:10:36.960053Z",
     "shell.execute_reply": "2022-04-14T23:10:36.957672Z"
    },
    "papermill": {
     "duration": 1.700863,
     "end_time": "2022-04-14T23:10:36.962906",
     "exception": false,
     "start_time": "2022-04-14T23:10:35.262043",
     "status": "completed"
    },
    "tags": []
   },
   "outputs": [
    {
     "name": "stdout",
     "output_type": "stream",
     "text": [
      "Validation MAE: 29,653\n",
      "\n",
      "Setup complete\n"
     ]
    }
   ],
   "source": [
    "# Code you have previously used to load data\n",
    "import pandas as pd\n",
    "from sklearn.metrics import mean_absolute_error\n",
    "from sklearn.model_selection import train_test_split\n",
    "from sklearn.tree import DecisionTreeRegressor\n",
    "\n",
    "\n",
    "# Path of the file to read\n",
    "iowa_file_path = '../input/home-data-for-ml-course/train.csv'\n",
    "\n",
    "home_data = pd.read_csv(iowa_file_path)\n",
    "# Create target object and call it y\n",
    "y = home_data.SalePrice\n",
    "# Create X\n",
    "features = ['LotArea', 'YearBuilt', '1stFlrSF', '2ndFlrSF', 'FullBath', 'BedroomAbvGr', 'TotRmsAbvGrd']\n",
    "X = home_data[features]\n",
    "\n",
    "# Split into validation and training data\n",
    "train_X, val_X, train_y, val_y = train_test_split(X, y, random_state=1)\n",
    "\n",
    "# Specify Model\n",
    "iowa_model = DecisionTreeRegressor(random_state=1)\n",
    "# Fit Model\n",
    "iowa_model.fit(train_X, train_y)\n",
    "\n",
    "# Make validation predictions and calculate mean absolute error\n",
    "val_predictions = iowa_model.predict(val_X)\n",
    "val_mae = mean_absolute_error(val_predictions, val_y)\n",
    "print(\"Validation MAE: {:,.0f}\".format(val_mae))\n",
    "\n",
    "# Set up code checking\n",
    "from learntools.core import binder\n",
    "binder.bind(globals())\n",
    "from learntools.machine_learning.ex5 import *\n",
    "print(\"\\nSetup complete\")"
   ]
  },
  {
   "cell_type": "markdown",
   "id": "f8cde812",
   "metadata": {
    "papermill": {
     "duration": 0.014514,
     "end_time": "2022-04-14T23:10:36.993288",
     "exception": false,
     "start_time": "2022-04-14T23:10:36.978774",
     "status": "completed"
    },
    "tags": []
   },
   "source": [
    "# Exercises\n",
    "You could write the function `get_mae` yourself. For now, we'll supply it. This is the same function you read about in the previous lesson. Just run the cell below."
   ]
  },
  {
   "cell_type": "code",
   "execution_count": 2,
   "id": "94f9c07c",
   "metadata": {
    "execution": {
     "iopub.execute_input": "2022-04-14T23:10:37.025020Z",
     "iopub.status.busy": "2022-04-14T23:10:37.024524Z",
     "iopub.status.idle": "2022-04-14T23:10:37.030134Z",
     "shell.execute_reply": "2022-04-14T23:10:37.028998Z"
    },
    "papermill": {
     "duration": 0.024625,
     "end_time": "2022-04-14T23:10:37.032500",
     "exception": false,
     "start_time": "2022-04-14T23:10:37.007875",
     "status": "completed"
    },
    "tags": []
   },
   "outputs": [],
   "source": [
    "def get_mae(max_leaf_nodes, train_X, val_X, train_y, val_y):\n",
    "    model = DecisionTreeRegressor(max_leaf_nodes=max_leaf_nodes, random_state=0)\n",
    "    model.fit(train_X, train_y)\n",
    "    preds_val = model.predict(val_X)\n",
    "    mae = mean_absolute_error(val_y, preds_val)\n",
    "    return(mae)"
   ]
  },
  {
   "cell_type": "markdown",
   "id": "c5f9bc28",
   "metadata": {
    "papermill": {
     "duration": 0.01585,
     "end_time": "2022-04-14T23:10:37.063203",
     "exception": false,
     "start_time": "2022-04-14T23:10:37.047353",
     "status": "completed"
    },
    "tags": []
   },
   "source": [
    "## Step 1: Compare Different Tree Sizes\n",
    "Write a loop that tries the following values for *max_leaf_nodes* from a set of possible values.\n",
    "\n",
    "Call the *get_mae* function on each value of max_leaf_nodes. Store the output in some way that allows you to select the value of `max_leaf_nodes` that gives the most accurate model on your data."
   ]
  },
  {
   "cell_type": "code",
   "execution_count": 3,
   "id": "ccc5eb46",
   "metadata": {
    "execution": {
     "iopub.execute_input": "2022-04-14T23:10:37.095730Z",
     "iopub.status.busy": "2022-04-14T23:10:37.095416Z",
     "iopub.status.idle": "2022-04-14T23:10:37.160511Z",
     "shell.execute_reply": "2022-04-14T23:10:37.159726Z"
    },
    "papermill": {
     "duration": 0.084479,
     "end_time": "2022-04-14T23:10:37.163162",
     "exception": false,
     "start_time": "2022-04-14T23:10:37.078683",
     "status": "completed"
    },
    "tags": []
   },
   "outputs": [
    {
     "name": "stdout",
     "output_type": "stream",
     "text": [
      "5 35044.51299744237\n",
      "25 29016.41319191076\n",
      "50 27405.930473214907\n",
      "100 27282.50803885739\n",
      "250 27893.822225701646\n",
      "500 29454.18598068598\n"
     ]
    },
    {
     "data": {
      "application/javascript": [
       "parent.postMessage({\"jupyterEvent\": \"custom.exercise_interaction\", \"data\": {\"outcomeType\": 1, \"valueTowardsCompletion\": 0.5, \"interactionType\": 1, \"questionType\": 1, \"questionId\": \"1_BestTreeSize\", \"learnToolsVersion\": \"0.3.4\", \"failureMessage\": \"\", \"exceptionClass\": \"\", \"trace\": \"\"}}, \"*\")"
      ],
      "text/plain": [
       "<IPython.core.display.Javascript object>"
      ]
     },
     "metadata": {},
     "output_type": "display_data"
    },
    {
     "data": {
      "text/markdown": [
       "<span style=\"color:#33cc33\">Correct</span>"
      ],
      "text/plain": [
       "Correct"
      ]
     },
     "metadata": {},
     "output_type": "display_data"
    }
   ],
   "source": [
    "candidate_max_leaf_nodes = [5, 25, 50, 100, 250, 500]\n",
    "# Write loop to find the ideal tree size from candidate_max_leaf_nodes\n",
    "for n in candidate_max_leaf_nodes:\n",
    "    my_mae = get_mae(n, train_X, val_X, train_y, val_y)\n",
    "    print (n, my_mae)\n",
    "# Store the best value of max_leaf_nodes (it will be either 5, 25, 50, 100, 250 or 500)\n",
    "best_tree_size = 100\n",
    "\n",
    "# Check your answer\n",
    "step_1.check()"
   ]
  },
  {
   "cell_type": "code",
   "execution_count": 4,
   "id": "2fe353ad",
   "metadata": {
    "execution": {
     "iopub.execute_input": "2022-04-14T23:10:37.201842Z",
     "iopub.status.busy": "2022-04-14T23:10:37.201556Z",
     "iopub.status.idle": "2022-04-14T23:10:37.206220Z",
     "shell.execute_reply": "2022-04-14T23:10:37.205234Z"
    },
    "papermill": {
     "duration": 0.026216,
     "end_time": "2022-04-14T23:10:37.208199",
     "exception": false,
     "start_time": "2022-04-14T23:10:37.181983",
     "status": "completed"
    },
    "tags": []
   },
   "outputs": [],
   "source": [
    "# The lines below will show you a hint or the solution.\n",
    "# step_1.hint() \n",
    "# step_1.solution()"
   ]
  },
  {
   "cell_type": "markdown",
   "id": "12a542bd",
   "metadata": {
    "papermill": {
     "duration": 0.017082,
     "end_time": "2022-04-14T23:10:37.243496",
     "exception": false,
     "start_time": "2022-04-14T23:10:37.226414",
     "status": "completed"
    },
    "tags": []
   },
   "source": [
    "## Step 2: Fit Model Using All Data\n",
    "You know the best tree size. If you were going to deploy this model in practice, you would make it even more accurate by using all of the data and keeping that tree size.  That is, you don't need to hold out the validation data now that you've made all your modeling decisions."
   ]
  },
  {
   "cell_type": "code",
   "execution_count": 5,
   "id": "a945208e",
   "metadata": {
    "execution": {
     "iopub.execute_input": "2022-04-14T23:10:37.282273Z",
     "iopub.status.busy": "2022-04-14T23:10:37.281951Z",
     "iopub.status.idle": "2022-04-14T23:10:37.299250Z",
     "shell.execute_reply": "2022-04-14T23:10:37.298690Z"
    },
    "papermill": {
     "duration": 0.040208,
     "end_time": "2022-04-14T23:10:37.301759",
     "exception": false,
     "start_time": "2022-04-14T23:10:37.261551",
     "status": "completed"
    },
    "tags": []
   },
   "outputs": [
    {
     "data": {
      "application/javascript": [
       "parent.postMessage({\"jupyterEvent\": \"custom.exercise_interaction\", \"data\": {\"outcomeType\": 1, \"valueTowardsCompletion\": 0.5, \"interactionType\": 1, \"questionType\": 2, \"questionId\": \"2_FitModelWithAllData\", \"learnToolsVersion\": \"0.3.4\", \"failureMessage\": \"\", \"exceptionClass\": \"\", \"trace\": \"\"}}, \"*\")"
      ],
      "text/plain": [
       "<IPython.core.display.Javascript object>"
      ]
     },
     "metadata": {},
     "output_type": "display_data"
    },
    {
     "data": {
      "text/markdown": [
       "<span style=\"color:#33cc33\">Correct</span>"
      ],
      "text/plain": [
       "Correct"
      ]
     },
     "metadata": {},
     "output_type": "display_data"
    }
   ],
   "source": [
    "# Fill in argument to make optimal size and uncomment\n",
    "final_model = DecisionTreeRegressor(max_leaf_nodes=best_tree_size, random_state=1)\n",
    "\n",
    "# fit the final model and uncomment the next two lines\n",
    "final_model.fit(X, y)\n",
    "\n",
    "# Check your answer\n",
    "step_2.check()"
   ]
  },
  {
   "cell_type": "code",
   "execution_count": 6,
   "id": "cd6dea95",
   "metadata": {
    "execution": {
     "iopub.execute_input": "2022-04-14T23:10:37.342237Z",
     "iopub.status.busy": "2022-04-14T23:10:37.341943Z",
     "iopub.status.idle": "2022-04-14T23:10:37.345085Z",
     "shell.execute_reply": "2022-04-14T23:10:37.344599Z"
    },
    "papermill": {
     "duration": 0.025986,
     "end_time": "2022-04-14T23:10:37.347134",
     "exception": false,
     "start_time": "2022-04-14T23:10:37.321148",
     "status": "completed"
    },
    "tags": []
   },
   "outputs": [],
   "source": [
    "#step_2.hint()\n",
    "# step_2.solution()"
   ]
  },
  {
   "cell_type": "markdown",
   "id": "23c917eb",
   "metadata": {
    "papermill": {
     "duration": 0.019554,
     "end_time": "2022-04-14T23:10:37.386222",
     "exception": false,
     "start_time": "2022-04-14T23:10:37.366668",
     "status": "completed"
    },
    "tags": []
   },
   "source": [
    "You've tuned this model and improved your results. But we are still using Decision Tree models, which are not very sophisticated by modern machine learning standards. In the next step you will learn to use Random Forests to improve your models even more.\n",
    "\n",
    "# Keep Going\n",
    "\n",
    "You are ready for **[Random Forests](https://www.kaggle.com/dansbecker/random-forests).**\n"
   ]
  },
  {
   "cell_type": "markdown",
   "id": "75eb299a",
   "metadata": {
    "papermill": {
     "duration": 0.018504,
     "end_time": "2022-04-14T23:10:37.423924",
     "exception": false,
     "start_time": "2022-04-14T23:10:37.405420",
     "status": "completed"
    },
    "tags": []
   },
   "source": [
    "---\n",
    "\n",
    "\n",
    "\n",
    "\n",
    "*Have questions or comments? Visit the [course discussion forum](https://www.kaggle.com/learn/intro-to-machine-learning/discussion) to chat with other learners.*"
   ]
  }
 ],
 "metadata": {
  "kernelspec": {
   "display_name": "Python 3",
   "language": "python",
   "name": "python3"
  },
  "language_info": {
   "codemirror_mode": {
    "name": "ipython",
    "version": 3
   },
   "file_extension": ".py",
   "mimetype": "text/x-python",
   "name": "python",
   "nbconvert_exporter": "python",
   "pygments_lexer": "ipython3",
   "version": "3.7.12"
  },
  "papermill": {
   "default_parameters": {},
   "duration": 15.579207,
   "end_time": "2022-04-14T23:10:38.465141",
   "environment_variables": {},
   "exception": null,
   "input_path": "__notebook__.ipynb",
   "output_path": "__notebook__.ipynb",
   "parameters": {},
   "start_time": "2022-04-14T23:10:22.885934",
   "version": "2.3.4"
  }
 },
 "nbformat": 4,
 "nbformat_minor": 5
}
