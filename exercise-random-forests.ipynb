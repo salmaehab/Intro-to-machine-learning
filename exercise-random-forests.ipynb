{
 "cells": [
  {
   "cell_type": "markdown",
   "id": "6f855ad0",
   "metadata": {
    "papermill": {
     "duration": 0.008944,
     "end_time": "2022-04-14T23:14:50.486540",
     "exception": false,
     "start_time": "2022-04-14T23:14:50.477596",
     "status": "completed"
    },
    "tags": []
   },
   "source": [
    "**This notebook is an exercise in the [Introduction to Machine Learning](https://www.kaggle.com/learn/intro-to-machine-learning) course.  You can reference the tutorial at [this link](https://www.kaggle.com/dansbecker/random-forests).**\n",
    "\n",
    "---\n"
   ]
  },
  {
   "cell_type": "markdown",
   "id": "427feaf4",
   "metadata": {
    "papermill": {
     "duration": 0.007531,
     "end_time": "2022-04-14T23:14:50.502026",
     "exception": false,
     "start_time": "2022-04-14T23:14:50.494495",
     "status": "completed"
    },
    "tags": []
   },
   "source": [
    "## Recap\n",
    "Here's the code you've written so far."
   ]
  },
  {
   "cell_type": "code",
   "execution_count": 1,
   "id": "60c36739",
   "metadata": {
    "execution": {
     "iopub.execute_input": "2022-04-14T23:14:50.519776Z",
     "iopub.status.busy": "2022-04-14T23:14:50.519121Z",
     "iopub.status.idle": "2022-04-14T23:14:51.892926Z",
     "shell.execute_reply": "2022-04-14T23:14:51.891578Z"
    },
    "papermill": {
     "duration": 1.386383,
     "end_time": "2022-04-14T23:14:51.896089",
     "exception": false,
     "start_time": "2022-04-14T23:14:50.509706",
     "status": "completed"
    },
    "tags": []
   },
   "outputs": [
    {
     "name": "stdout",
     "output_type": "stream",
     "text": [
      "Validation MAE when not specifying max_leaf_nodes: 29,653\n",
      "Validation MAE for best value of max_leaf_nodes: 27,283\n",
      "\n",
      "Setup complete\n"
     ]
    }
   ],
   "source": [
    "# Code you have previously used to load data\n",
    "import pandas as pd\n",
    "from sklearn.metrics import mean_absolute_error\n",
    "from sklearn.model_selection import train_test_split\n",
    "from sklearn.tree import DecisionTreeRegressor\n",
    "\n",
    "\n",
    "# Path of the file to read\n",
    "iowa_file_path = '../input/home-data-for-ml-course/train.csv'\n",
    "\n",
    "home_data = pd.read_csv(iowa_file_path)\n",
    "# Create target object and call it y\n",
    "y = home_data.SalePrice\n",
    "# Create X\n",
    "features = ['LotArea', 'YearBuilt', '1stFlrSF', '2ndFlrSF', 'FullBath', 'BedroomAbvGr', 'TotRmsAbvGrd']\n",
    "X = home_data[features]\n",
    "\n",
    "# Split into validation and training data\n",
    "train_X, val_X, train_y, val_y = train_test_split(X, y, random_state=1)\n",
    "\n",
    "# Specify Model\n",
    "iowa_model = DecisionTreeRegressor(random_state=1)\n",
    "# Fit Model\n",
    "iowa_model.fit(train_X, train_y)\n",
    "\n",
    "# Make validation predictions and calculate mean absolute error\n",
    "val_predictions = iowa_model.predict(val_X)\n",
    "val_mae = mean_absolute_error(val_predictions, val_y)\n",
    "print(\"Validation MAE when not specifying max_leaf_nodes: {:,.0f}\".format(val_mae))\n",
    "\n",
    "# Using best value for max_leaf_nodes\n",
    "iowa_model = DecisionTreeRegressor(max_leaf_nodes=100, random_state=1)\n",
    "iowa_model.fit(train_X, train_y)\n",
    "val_predictions = iowa_model.predict(val_X)\n",
    "val_mae = mean_absolute_error(val_predictions, val_y)\n",
    "print(\"Validation MAE for best value of max_leaf_nodes: {:,.0f}\".format(val_mae))\n",
    "\n",
    "\n",
    "# Set up code checking\n",
    "from learntools.core import binder\n",
    "binder.bind(globals())\n",
    "from learntools.machine_learning.ex6 import *\n",
    "print(\"\\nSetup complete\")"
   ]
  },
  {
   "cell_type": "markdown",
   "id": "c689f127",
   "metadata": {
    "papermill": {
     "duration": 0.008308,
     "end_time": "2022-04-14T23:14:51.913781",
     "exception": false,
     "start_time": "2022-04-14T23:14:51.905473",
     "status": "completed"
    },
    "tags": []
   },
   "source": [
    "# Exercises\n",
    "Data science isn't always this easy. But replacing the decision tree with a Random Forest is going to be an easy win."
   ]
  },
  {
   "cell_type": "markdown",
   "id": "8e1490fc",
   "metadata": {
    "papermill": {
     "duration": 0.007743,
     "end_time": "2022-04-14T23:14:51.929606",
     "exception": false,
     "start_time": "2022-04-14T23:14:51.921863",
     "status": "completed"
    },
    "tags": []
   },
   "source": [
    "## Step 1: Use a Random Forest"
   ]
  },
  {
   "cell_type": "code",
   "execution_count": 2,
   "id": "7a5bab46",
   "metadata": {
    "execution": {
     "iopub.execute_input": "2022-04-14T23:14:51.947432Z",
     "iopub.status.busy": "2022-04-14T23:14:51.947122Z",
     "iopub.status.idle": "2022-04-14T23:14:52.475690Z",
     "shell.execute_reply": "2022-04-14T23:14:52.474389Z"
    },
    "papermill": {
     "duration": 0.540076,
     "end_time": "2022-04-14T23:14:52.477958",
     "exception": false,
     "start_time": "2022-04-14T23:14:51.937882",
     "status": "completed"
    },
    "tags": []
   },
   "outputs": [
    {
     "name": "stdout",
     "output_type": "stream",
     "text": [
      "Validation MAE for Random Forest Model: 21857.15912981083\n"
     ]
    },
    {
     "data": {
      "application/javascript": [
       "parent.postMessage({\"jupyterEvent\": \"custom.exercise_interaction\", \"data\": {\"outcomeType\": 1, \"valueTowardsCompletion\": 1.0, \"interactionType\": 1, \"questionType\": 2, \"questionId\": \"1_CheckRfScore\", \"learnToolsVersion\": \"0.3.4\", \"failureMessage\": \"\", \"exceptionClass\": \"\", \"trace\": \"\"}}, \"*\")"
      ],
      "text/plain": [
       "<IPython.core.display.Javascript object>"
      ]
     },
     "metadata": {},
     "output_type": "display_data"
    },
    {
     "data": {
      "text/markdown": [
       "<span style=\"color:#33cc33\">Correct</span>"
      ],
      "text/plain": [
       "Correct"
      ]
     },
     "metadata": {},
     "output_type": "display_data"
    }
   ],
   "source": [
    "from sklearn.ensemble import RandomForestRegressor\n",
    "\n",
    "# Define the model. Set random_state to 1\n",
    "rf_model = RandomForestRegressor(random_state=1)\n",
    "\n",
    "# fit your model\n",
    "rf_model.fit(train_X, train_y)\n",
    "\n",
    "# Calculate the mean absolute error of your Random Forest model on the validation data\n",
    "melb_preds = rf_model.predict(val_X)\n",
    "rf_val_mae = mean_absolute_error(val_y, melb_preds)\n",
    "\n",
    "print(\"Validation MAE for Random Forest Model: {}\".format(rf_val_mae))\n",
    "\n",
    "# Check your answer\n",
    "step_1.check()"
   ]
  },
  {
   "cell_type": "code",
   "execution_count": 3,
   "id": "7819bbfe",
   "metadata": {
    "execution": {
     "iopub.execute_input": "2022-04-14T23:14:52.499757Z",
     "iopub.status.busy": "2022-04-14T23:14:52.499202Z",
     "iopub.status.idle": "2022-04-14T23:14:52.502770Z",
     "shell.execute_reply": "2022-04-14T23:14:52.502220Z"
    },
    "papermill": {
     "duration": 0.016702,
     "end_time": "2022-04-14T23:14:52.504598",
     "exception": false,
     "start_time": "2022-04-14T23:14:52.487896",
     "status": "completed"
    },
    "tags": []
   },
   "outputs": [],
   "source": [
    "# The lines below will show you a hint or the solution.\n",
    "# step_1.hint() \n",
    "# step_1.solution()\n"
   ]
  },
  {
   "cell_type": "markdown",
   "id": "343b40ff",
   "metadata": {
    "papermill": {
     "duration": 0.009624,
     "end_time": "2022-04-14T23:14:52.523952",
     "exception": false,
     "start_time": "2022-04-14T23:14:52.514328",
     "status": "completed"
    },
    "tags": []
   },
   "source": [
    "So far, you have followed specific instructions at each step of your project. This helped learn key ideas and build your first model, but now you know enough to try things on your own. \n",
    "\n",
    "Machine Learning competitions are a great way to try your own ideas and learn more as you independently navigate a machine learning project. \n",
    "\n",
    "# Keep Going\n",
    "\n",
    "You are ready for **[Machine Learning Competitions](https://www.kaggle.com/alexisbcook/machine-learning-competitions).**\n"
   ]
  },
  {
   "cell_type": "markdown",
   "id": "3c3e75af",
   "metadata": {
    "papermill": {
     "duration": 0.009557,
     "end_time": "2022-04-14T23:14:52.543186",
     "exception": false,
     "start_time": "2022-04-14T23:14:52.533629",
     "status": "completed"
    },
    "tags": []
   },
   "source": [
    "---\n",
    "\n",
    "\n",
    "\n",
    "\n",
    "*Have questions or comments? Visit the [course discussion forum](https://www.kaggle.com/learn/intro-to-machine-learning/discussion) to chat with other learners.*"
   ]
  }
 ],
 "metadata": {
  "kernelspec": {
   "display_name": "Python 3",
   "language": "python",
   "name": "python3"
  },
  "language_info": {
   "codemirror_mode": {
    "name": "ipython",
    "version": 3
   },
   "file_extension": ".py",
   "mimetype": "text/x-python",
   "name": "python",
   "nbconvert_exporter": "python",
   "pygments_lexer": "ipython3",
   "version": "3.7.12"
  },
  "papermill": {
   "default_parameters": {},
   "duration": 12.511274,
   "end_time": "2022-04-14T23:14:53.272830",
   "environment_variables": {},
   "exception": null,
   "input_path": "__notebook__.ipynb",
   "output_path": "__notebook__.ipynb",
   "parameters": {},
   "start_time": "2022-04-14T23:14:40.761556",
   "version": "2.3.4"
  }
 },
 "nbformat": 4,
 "nbformat_minor": 5
}
